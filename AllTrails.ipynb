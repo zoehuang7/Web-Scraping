{
 "cells": [
  {
   "cell_type": "code",
   "execution_count": 67,
   "metadata": {},
   "outputs": [],
   "source": [
    "import requests\n",
    "import urllib.request\n",
    "import time\n",
    "from bs4 import BeautifulSoup\n",
    "import numpy as np\n",
    "import re\n",
    "import pandas as pd\n",
    "import json\n",
    "from selenium import webdriver"
   ]
  },
  {
   "cell_type": "code",
   "execution_count": 2,
   "metadata": {},
   "outputs": [],
   "source": [
    "pd.options.display.float_format = '{:,.1f}'.format"
   ]
  },
  {
   "cell_type": "code",
   "execution_count": 3,
   "metadata": {},
   "outputs": [],
   "source": [
    "url = 'https://www.alltrails.com/parks/us/virginia/shenandoah-national-park'\n",
    "response = requests.get(url)"
   ]
  },
  {
   "cell_type": "code",
   "execution_count": 4,
   "metadata": {},
   "outputs": [],
   "source": [
    "soup = BeautifulSoup(response.text, 'html.parser')"
   ]
  },
  {
   "cell_type": "code",
   "execution_count": 5,
   "metadata": {
    "scrolled": true
   },
   "outputs": [],
   "source": [
    "def search_text(soup_use, search_pattern, group_number=0):\n",
    "    text = []\n",
    "    for index, string in enumerate(soup_use.find_all('div')):\n",
    "        pattern = re.search(search_pattern,str(string))\n",
    "        if pattern is not None:\n",
    "            text.append(pattern.group(group_number))\n",
    "    return text"
   ]
  },
  {
   "cell_type": "code",
   "execution_count": 6,
   "metadata": {},
   "outputs": [],
   "source": [
    "text = search_text(soup, '/.*/&quot;')"
   ]
  },
  {
   "cell_type": "code",
   "execution_count": 7,
   "metadata": {},
   "outputs": [
    {
     "data": {
      "text/plain": [
       "2"
      ]
     },
     "execution_count": 7,
     "metadata": {},
     "output_type": "execute_result"
    }
   ],
   "source": [
    "len(text)"
   ]
  },
  {
   "cell_type": "code",
   "execution_count": 8,
   "metadata": {},
   "outputs": [],
   "source": [
    "text_use = text[0]"
   ]
  },
  {
   "cell_type": "code",
   "execution_count": 9,
   "metadata": {},
   "outputs": [],
   "source": [
    "trail_list = []\n",
    "for v in text[1].split(','):\n",
    "    try:\n",
    "        find_text = re.search('/virginia/(.*)&quot;',v).group(1)\n",
    "        if find_text.find('-') != -1 and find_text.find('park') == -1:\n",
    "            trail_list.append(find_text)\n",
    "    except:\n",
    "        pass"
   ]
  },
  {
   "cell_type": "code",
   "execution_count": 10,
   "metadata": {},
   "outputs": [
    {
     "data": {
      "text/plain": [
       "['old-rag-mountain-loop-trail',\n",
       " 'white-oak-canyon-and-cedar-run-trails',\n",
       " 'dark-hollow-falls-trail',\n",
       " 'hawksbill-gap-loop',\n",
       " 'rose-river-trail',\n",
       " 'bearfence-mountain-trail',\n",
       " 'south-river-falls-trail',\n",
       " 'stony-man-via-appalachian-trail',\n",
       " 'little-stony-man-loop-via-appalachian-trail',\n",
       " 'white-oak-canyon-trail',\n",
       " 'marys-rock-via-appalachian-trail-north-approach',\n",
       " 'little-devils-stairs-trail',\n",
       " 'hawksbill-summit',\n",
       " 'riprap-trail',\n",
       " 'blackrock-summit-via-trayfoot-mountain-and-appalachian-trail',\n",
       " 'upper-hawksbill-trail',\n",
       " 'jones-run-falls-trail',\n",
       " 'dark-hollow-via-appalachian-trail-and-story-of-the-forest-trail',\n",
       " 'doyles-river-falls-trail',\n",
       " 'doyles-river-loop-via-appalachian-trail',\n",
       " 'port-republic',\n",
       " 'overall-run-loop',\n",
       " 'turk-mountain-trail',\n",
       " 'marys-rock-south-trail',\n",
       " 'snead-farm-dickey-ridge-loop-trail',\n",
       " 'front-royal']"
      ]
     },
     "execution_count": 10,
     "metadata": {},
     "output_type": "execute_result"
    }
   ],
   "source": [
    "trail_list"
   ]
  },
  {
   "cell_type": "code",
   "execution_count": 11,
   "metadata": {},
   "outputs": [],
   "source": [
    "link_prefix = 'https://www.alltrails.com/trail/us/virginia/'\n",
    "link_list = [link_prefix+v.lower().replace(' ','-').replace('(','').replace(')','').replace(\"'\",'') for v in trail_list]"
   ]
  },
  {
   "cell_type": "code",
   "execution_count": 12,
   "metadata": {
    "scrolled": true
   },
   "outputs": [
    {
     "data": {
      "text/plain": [
       "['https://www.alltrails.com/trail/us/virginia/old-rag-mountain-loop-trail',\n",
       " 'https://www.alltrails.com/trail/us/virginia/white-oak-canyon-and-cedar-run-trails',\n",
       " 'https://www.alltrails.com/trail/us/virginia/dark-hollow-falls-trail',\n",
       " 'https://www.alltrails.com/trail/us/virginia/hawksbill-gap-loop',\n",
       " 'https://www.alltrails.com/trail/us/virginia/rose-river-trail',\n",
       " 'https://www.alltrails.com/trail/us/virginia/bearfence-mountain-trail',\n",
       " 'https://www.alltrails.com/trail/us/virginia/south-river-falls-trail',\n",
       " 'https://www.alltrails.com/trail/us/virginia/stony-man-via-appalachian-trail',\n",
       " 'https://www.alltrails.com/trail/us/virginia/little-stony-man-loop-via-appalachian-trail',\n",
       " 'https://www.alltrails.com/trail/us/virginia/white-oak-canyon-trail',\n",
       " 'https://www.alltrails.com/trail/us/virginia/marys-rock-via-appalachian-trail-north-approach',\n",
       " 'https://www.alltrails.com/trail/us/virginia/little-devils-stairs-trail',\n",
       " 'https://www.alltrails.com/trail/us/virginia/hawksbill-summit',\n",
       " 'https://www.alltrails.com/trail/us/virginia/riprap-trail',\n",
       " 'https://www.alltrails.com/trail/us/virginia/blackrock-summit-via-trayfoot-mountain-and-appalachian-trail',\n",
       " 'https://www.alltrails.com/trail/us/virginia/upper-hawksbill-trail',\n",
       " 'https://www.alltrails.com/trail/us/virginia/jones-run-falls-trail',\n",
       " 'https://www.alltrails.com/trail/us/virginia/dark-hollow-via-appalachian-trail-and-story-of-the-forest-trail',\n",
       " 'https://www.alltrails.com/trail/us/virginia/doyles-river-falls-trail',\n",
       " 'https://www.alltrails.com/trail/us/virginia/doyles-river-loop-via-appalachian-trail',\n",
       " 'https://www.alltrails.com/trail/us/virginia/port-republic',\n",
       " 'https://www.alltrails.com/trail/us/virginia/overall-run-loop',\n",
       " 'https://www.alltrails.com/trail/us/virginia/turk-mountain-trail',\n",
       " 'https://www.alltrails.com/trail/us/virginia/marys-rock-south-trail',\n",
       " 'https://www.alltrails.com/trail/us/virginia/snead-farm-dickey-ridge-loop-trail',\n",
       " 'https://www.alltrails.com/trail/us/virginia/front-royal']"
      ]
     },
     "execution_count": 12,
     "metadata": {},
     "output_type": "execute_result"
    }
   ],
   "source": [
    "link_list"
   ]
  },
  {
   "cell_type": "code",
   "execution_count": 13,
   "metadata": {},
   "outputs": [
    {
     "data": {
      "text/plain": [
       "26"
      ]
     },
     "execution_count": 13,
     "metadata": {},
     "output_type": "execute_result"
    }
   ],
   "source": [
    "len(link_list)"
   ]
  },
  {
   "cell_type": "code",
   "execution_count": 14,
   "metadata": {},
   "outputs": [],
   "source": [
    "col_name = 'name'\n",
    "col_popularity = 'popularity'\n",
    "col_type = 'type'\n",
    "col_length = 'length'\n",
    "col_difficulty = 'difficulty_rating'\n",
    "col_route_type = 'route_type'\n",
    "col_avg_rating = 'avg_rating'\n",
    "col_features = 'features'\n",
    "col_activities = 'activities'\n",
    "col_num_reviews = 'num_reviews'\n",
    "col_duration_minutes = 'duration_minutes'\n",
    "col_link = 'col_link'\n",
    "col_list = [col_name, col_avg_rating, col_popularity, col_difficulty, col_length, col_duration_minutes, col_num_reviews,\n",
    "           col_route_type, col_features, col_activities, col_type, col_link]"
   ]
  },
  {
   "cell_type": "code",
   "execution_count": 15,
   "metadata": {},
   "outputs": [],
   "source": [
    "class GetTrailDetail:\n",
    "    def __init__(self, link):\n",
    "        self.link = link\n",
    "        self.soup = self.get_soup()\n",
    "        self.searched_text = None\n",
    "        self.text_dict = None\n",
    "    \n",
    "    def get_soup(self):\n",
    "        #request html data\n",
    "        sub_response = requests.get(self.link)\n",
    "        sub_soup = BeautifulSoup(sub_response.text, 'html.parser')\n",
    "        return sub_soup\n",
    "\n",
    "    def convert2df(self, pattern='(\"trail\".*),\"profile_photo_url\":', group_number=1):\n",
    "        try:\n",
    "            sub_text = '{' + search_text(self.soup, pattern,group_number)[0]+'}}'.replace(\"'\",'\"')\n",
    "            self.searched_text = sub_text \n",
    "        except:\n",
    "            print(f'{self.link} Failed')\n",
    "        #convert to json dictionary\n",
    "        try:\n",
    "            sub_dict = json.loads(sub_text)['trail']\n",
    "\n",
    "            #convert to dataframe\n",
    "            df_sub = pd.DataFrame.from_dict(sub_dict, orient='index').T\n",
    "            self.text_dict = sub_dict\n",
    "            print(f'{self.link} Done')\n",
    "            df_sub[col_link] = self.link\n",
    "            return df_sub\n",
    "        except:\n",
    "            print(f\"{self.link} Failed\")\n",
    "            pass"
   ]
  },
  {
   "cell_type": "code",
   "execution_count": 16,
   "metadata": {},
   "outputs": [
    {
     "name": "stdout",
     "output_type": "stream",
     "text": [
      "https://www.alltrails.com/trail/us/virginia/old-rag-mountain-loop-trail Done\n",
      "https://www.alltrails.com/trail/us/virginia/white-oak-canyon-and-cedar-run-trails Done\n",
      "https://www.alltrails.com/trail/us/virginia/dark-hollow-falls-trail Done\n",
      "https://www.alltrails.com/trail/us/virginia/hawksbill-gap-loop Done\n",
      "https://www.alltrails.com/trail/us/virginia/rose-river-trail Done\n",
      "https://www.alltrails.com/trail/us/virginia/bearfence-mountain-trail Done\n",
      "https://www.alltrails.com/trail/us/virginia/south-river-falls-trail Done\n",
      "https://www.alltrails.com/trail/us/virginia/stony-man-via-appalachian-trail Done\n",
      "https://www.alltrails.com/trail/us/virginia/little-stony-man-loop-via-appalachian-trail Done\n",
      "https://www.alltrails.com/trail/us/virginia/white-oak-canyon-trail Done\n",
      "https://www.alltrails.com/trail/us/virginia/marys-rock-via-appalachian-trail-north-approach Done\n",
      "https://www.alltrails.com/trail/us/virginia/little-devils-stairs-trail Done\n",
      "https://www.alltrails.com/trail/us/virginia/hawksbill-summit Done\n",
      "https://www.alltrails.com/trail/us/virginia/riprap-trail Done\n",
      "https://www.alltrails.com/trail/us/virginia/blackrock-summit-via-trayfoot-mountain-and-appalachian-trail Done\n",
      "https://www.alltrails.com/trail/us/virginia/upper-hawksbill-trail Done\n",
      "https://www.alltrails.com/trail/us/virginia/jones-run-falls-trail Done\n",
      "https://www.alltrails.com/trail/us/virginia/dark-hollow-via-appalachian-trail-and-story-of-the-forest-trail Done\n",
      "https://www.alltrails.com/trail/us/virginia/doyles-river-falls-trail Done\n",
      "https://www.alltrails.com/trail/us/virginia/doyles-river-loop-via-appalachian-trail Failed\n",
      "https://www.alltrails.com/trail/us/virginia/port-republic Failed\n",
      "https://www.alltrails.com/trail/us/virginia/port-republic Failed\n",
      "https://www.alltrails.com/trail/us/virginia/overall-run-loop Done\n",
      "https://www.alltrails.com/trail/us/virginia/turk-mountain-trail Done\n",
      "https://www.alltrails.com/trail/us/virginia/marys-rock-south-trail Failed\n",
      "https://www.alltrails.com/trail/us/virginia/marys-rock-south-trail Failed\n",
      "https://www.alltrails.com/trail/us/virginia/snead-farm-dickey-ridge-loop-trail Done\n",
      "https://www.alltrails.com/trail/us/virginia/front-royal Failed\n",
      "https://www.alltrails.com/trail/us/virginia/front-royal Failed\n"
     ]
    }
   ],
   "source": [
    "df_concat = pd.DataFrame()\n",
    "for link in link_list:\n",
    "    D = GetTrailDetail(link)\n",
    "    df_concat = pd.concat([df_concat, D.convert2df()], sort=False, axis=0)"
   ]
  },
  {
   "cell_type": "code",
   "execution_count": 19,
   "metadata": {},
   "outputs": [],
   "source": [
    "df_final = df_concat[col_list].copy()\n",
    "\n",
    "df_final[col_length] = (df_final[col_length]*0.000621371).map(lambda x: round(x,1))\n",
    "\n",
    "df_final[col_duration_minutes] = df_final[col_duration_minutes].map(lambda x: f'{int(x//60)}hr {int(x%60)}mins')"
   ]
  },
  {
   "cell_type": "code",
   "execution_count": 20,
   "metadata": {},
   "outputs": [],
   "source": [
    "nps_link = 'https://www.nps.gov/shen/planyourvisit/downloadable-guides.htm#CP_JUMP_5709005'\n",
    "N = GetTrailDetail(nps_link)\n",
    "nps_soup = N.soup"
   ]
  },
  {
   "cell_type": "code",
   "execution_count": 21,
   "metadata": {},
   "outputs": [
    {
     "name": "stdout",
     "output_type": "stream",
     "text": [
      "Download https://www.nps.gov/shen/planyourvisit/upload/DickeyRidge_RoadTrail.pdf\n",
      "Download https://www.nps.gov/shen/planyourvisit/upload/ComptonGap_RoadTrail.pdf\n",
      "Download https://www.nps.gov/shen/planyourvisit/upload/MathewsArm_RoadTrail.pdf\n",
      "Download https://www.nps.gov/shen/planyourvisit/upload/KeyserRun_RoadTrail.pdf\n",
      "Download https://www.nps.gov/shen/planyourvisit/upload/ThorntonGap_RoadTrail.pdf\n",
      "Download https://www.nps.gov/shen/planyourvisit/upload/Skyland_RoadTrail.pdf\n",
      "Download https://www.nps.gov/shen/planyourvisit/upload/WhiteoakCanyon_RoadTrail.pdf\n",
      "Download https://www.nps.gov/shen/planyourvisit/upload/OldRag_RoadTrail.pdf\n",
      "Download https://www.nps.gov/shen/planyourvisit/upload/Hawksbill_RoadTrail.pdf\n",
      "Download https://www.nps.gov/shen/planyourvisit/upload/BigMeadows_RoadTrail.pdf\n",
      "Download https://www.nps.gov/shen/planyourvisit/upload/RapidanCamp_RoadTrail.pdf\n",
      "Download https://www.nps.gov/shen/planyourvisit/upload/Bearfence_RoadTrail.pdf\n",
      "Download https://www.nps.gov/shen/planyourvisit/upload/SouthRiver_RoadTrail.pdf\n",
      "Download https://www.nps.gov/shen/planyourvisit/upload/LoftMountain_RoadTrail.pdf\n",
      "Download https://www.nps.gov/shen/planyourvisit/upload/Riprap_RoadTrail.pdf\n"
     ]
    }
   ],
   "source": [
    "nps_trail_link = []\n",
    "nps_trail_name = []\n",
    "nps_prefix = 'https://www.nps.gov'\n",
    "nps_dict = {}\n",
    "for string in nps_soup.find_all('td'):\n",
    "    for a in string.find_all('a', href=True):\n",
    "        pdf_file = a['href']\n",
    "        if pdf_file.find('Trail') != -1:\n",
    "            trail_link = nps_prefix+pdf_file\n",
    "            trail_name = re.search('upload/(.*)_', trail_link).group(1)\n",
    "            with open('C:/Users/huang/Dropbox/Travel/Shenandoah/'+trail_name+'.pdf', 'wb') as f:\n",
    "                f.write(requests.get(trail_link).content)\n",
    "            print(f'Download {trail_link}')\n",
    "            nps_trail_link.append(trail_link)\n",
    "            nps_trail_name.append(trail_name)\n",
    "            nps_dict[trail_name] = trail_link\n",
    "            "
   ]
  },
  {
   "cell_type": "code",
   "execution_count": 22,
   "metadata": {},
   "outputs": [
    {
     "data": {
      "text/plain": [
       "{'DickeyRidge': 'https://www.nps.gov/shen/planyourvisit/upload/DickeyRidge_RoadTrail.pdf',\n",
       " 'ComptonGap': 'https://www.nps.gov/shen/planyourvisit/upload/ComptonGap_RoadTrail.pdf',\n",
       " 'MathewsArm': 'https://www.nps.gov/shen/planyourvisit/upload/MathewsArm_RoadTrail.pdf',\n",
       " 'KeyserRun': 'https://www.nps.gov/shen/planyourvisit/upload/KeyserRun_RoadTrail.pdf',\n",
       " 'ThorntonGap': 'https://www.nps.gov/shen/planyourvisit/upload/ThorntonGap_RoadTrail.pdf',\n",
       " 'Skyland': 'https://www.nps.gov/shen/planyourvisit/upload/Skyland_RoadTrail.pdf',\n",
       " 'WhiteoakCanyon': 'https://www.nps.gov/shen/planyourvisit/upload/WhiteoakCanyon_RoadTrail.pdf',\n",
       " 'OldRag': 'https://www.nps.gov/shen/planyourvisit/upload/OldRag_RoadTrail.pdf',\n",
       " 'Hawksbill': 'https://www.nps.gov/shen/planyourvisit/upload/Hawksbill_RoadTrail.pdf',\n",
       " 'BigMeadows': 'https://www.nps.gov/shen/planyourvisit/upload/BigMeadows_RoadTrail.pdf',\n",
       " 'RapidanCamp': 'https://www.nps.gov/shen/planyourvisit/upload/RapidanCamp_RoadTrail.pdf',\n",
       " 'Bearfence': 'https://www.nps.gov/shen/planyourvisit/upload/Bearfence_RoadTrail.pdf',\n",
       " 'SouthRiver': 'https://www.nps.gov/shen/planyourvisit/upload/SouthRiver_RoadTrail.pdf',\n",
       " 'LoftMountain': 'https://www.nps.gov/shen/planyourvisit/upload/LoftMountain_RoadTrail.pdf',\n",
       " 'Riprap': 'https://www.nps.gov/shen/planyourvisit/upload/Riprap_RoadTrail.pdf'}"
      ]
     },
     "execution_count": 22,
     "metadata": {},
     "output_type": "execute_result"
    }
   ],
   "source": [
    "nps_dict"
   ]
  },
  {
   "cell_type": "code",
   "execution_count": 23,
   "metadata": {},
   "outputs": [],
   "source": [
    "import numpy as np"
   ]
  },
  {
   "cell_type": "code",
   "execution_count": 24,
   "metadata": {},
   "outputs": [],
   "source": [
    "def map_pdf_link(value):\n",
    "    for trail, link in nps_dict.items():\n",
    "        if value.lower().replace(' ','').strip().find(trail.lower()) != -1:\n",
    "            c = link\n",
    "            break\n",
    "        else:\n",
    "            c = np.nan\n",
    "    return c"
   ]
  },
  {
   "cell_type": "code",
   "execution_count": 27,
   "metadata": {},
   "outputs": [],
   "source": [
    "pd.set_option('display.width',4000)\n",
    "pd.set_option('display.max_colwidth', 4000)"
   ]
  },
  {
   "cell_type": "code",
   "execution_count": 28,
   "metadata": {},
   "outputs": [],
   "source": [
    "col_pdf = 'map_pdf'\n",
    "df_final[col_pdf] = df_final[col_name].map(lambda x: map_pdf_link(x))"
   ]
  },
  {
   "cell_type": "code",
   "execution_count": 30,
   "metadata": {},
   "outputs": [],
   "source": [
    "col_district = 'ditrict'\n",
    "col_skyline_drive_mile = 'skyline_drive_mile'\n",
    "col_nps_features = 'nps_features'\n",
    "col_nps_difficulty = 'nps_difficulty'"
   ]
  },
  {
   "cell_type": "code",
   "execution_count": 44,
   "metadata": {},
   "outputs": [],
   "source": [
    "nps_df_html = pd.read_html('https://www.nps.gov/shen/planyourvisit/hiking-opportunities.htm')"
   ]
  },
  {
   "cell_type": "code",
   "execution_count": 47,
   "metadata": {},
   "outputs": [],
   "source": [
    "col_map_name = 'nps_name'"
   ]
  },
  {
   "cell_type": "code",
   "execution_count": 45,
   "metadata": {},
   "outputs": [],
   "source": [
    "df_north = nps_df_html[1]\n",
    "df_central = nps_df_html[2]\n",
    "df_south = nps_df_html[3]\n",
    "for df, col in zip([df_north, df_central, df_south],['North','Central','South']):\n",
    "    df.columns = [col_map_name, col_skyline_drive_mile, col_nps_features, col_nps_difficulty, col_length]\n",
    "    df[col_district] = col"
   ]
  },
  {
   "cell_type": "code",
   "execution_count": 46,
   "metadata": {},
   "outputs": [],
   "source": [
    "df_nps = pd.concat([df_north, df_central, df_south], axis=0, sort=False)"
   ]
  },
  {
   "cell_type": "code",
   "execution_count": 48,
   "metadata": {},
   "outputs": [],
   "source": [
    "def map_trail_name(value):\n",
    "    split_str = value.lower().split(' ')\n",
    "    try:\n",
    "        abbr_value = split_str[0] + split_str[1]\n",
    "    except IndexError:\n",
    "        abbr_value = split_str[0]\n",
    "    abbr_value_0 = split_str[0]\n",
    "#     print(abbr_value)\n",
    "    for name in df_nps[col_map_name].values:\n",
    "        clean_name = name.lower().replace(' ','')\n",
    "        if clean_name.find(abbr_value.replace('trail','').replace('loop','')) != -1:\n",
    "            map_name = name\n",
    "#             print(name)\n",
    "            break\n",
    "        elif clean_name.find(abbr_value_0.replace('trail','').replace('loop','')) != -1:\n",
    "            map_name = name\n",
    "            break\n",
    "        else:\n",
    "            map_name = np.nan\n",
    "    return map_name"
   ]
  },
  {
   "cell_type": "code",
   "execution_count": 49,
   "metadata": {},
   "outputs": [],
   "source": [
    "df_final[col_map_name] = df_final[col_name].map(lambda x: map_trail_name(x))"
   ]
  },
  {
   "cell_type": "code",
   "execution_count": 50,
   "metadata": {},
   "outputs": [
    {
     "data": {
      "text/html": [
       "<div>\n",
       "<style scoped>\n",
       "    .dataframe tbody tr th:only-of-type {\n",
       "        vertical-align: middle;\n",
       "    }\n",
       "\n",
       "    .dataframe tbody tr th {\n",
       "        vertical-align: top;\n",
       "    }\n",
       "\n",
       "    .dataframe thead th {\n",
       "        text-align: right;\n",
       "    }\n",
       "</style>\n",
       "<table border=\"1\" class=\"dataframe\">\n",
       "  <thead>\n",
       "    <tr style=\"text-align: right;\">\n",
       "      <th></th>\n",
       "      <th>nps_name</th>\n",
       "      <th>skyline_drive_mile</th>\n",
       "      <th>nps_features</th>\n",
       "      <th>nps_difficulty</th>\n",
       "      <th>length</th>\n",
       "      <th>ditrict</th>\n",
       "    </tr>\n",
       "  </thead>\n",
       "  <tbody>\n",
       "    <tr>\n",
       "      <th>0</th>\n",
       "      <td>Fox Hollow Loop</td>\n",
       "      <td>4.6</td>\n",
       "      <td>Forest trail with cemetery, self-guided hike booklet available, no pets allowed</td>\n",
       "      <td>easy, Track Trail for Kids</td>\n",
       "      <td>1.2</td>\n",
       "      <td>North</td>\n",
       "    </tr>\n",
       "    <tr>\n",
       "      <th>1</th>\n",
       "      <td>Snead Farm Loop</td>\n",
       "      <td>5.1</td>\n",
       "      <td>Trail to old barn and a viewpoint</td>\n",
       "      <td>moderate</td>\n",
       "      <td>3.0</td>\n",
       "      <td>North</td>\n",
       "    </tr>\n",
       "    <tr>\n",
       "      <th>2</th>\n",
       "      <td>Lands Run</td>\n",
       "      <td>9.2</td>\n",
       "      <td>Fire road which crosses a stream</td>\n",
       "      <td>moderate</td>\n",
       "      <td>1.2</td>\n",
       "      <td>North</td>\n",
       "    </tr>\n",
       "    <tr>\n",
       "      <th>3</th>\n",
       "      <td>Compton Peak, West and East</td>\n",
       "      <td>10.4</td>\n",
       "      <td>Viewpoint and geology, columnar jointing</td>\n",
       "      <td>moderate, steep section to geologic feature</td>\n",
       "      <td>2.4</td>\n",
       "      <td>North</td>\n",
       "    </tr>\n",
       "    <tr>\n",
       "      <th>4</th>\n",
       "      <td>Fort Windham Rocks</td>\n",
       "      <td>10.4</td>\n",
       "      <td>Appalachian Trail to geologic feature</td>\n",
       "      <td>easy</td>\n",
       "      <td>0.8</td>\n",
       "      <td>North</td>\n",
       "    </tr>\n",
       "  </tbody>\n",
       "</table>\n",
       "</div>"
      ],
      "text/plain": [
       "                      nps_name skyline_drive_mile                                                                     nps_features                               nps_difficulty length ditrict\n",
       "0              Fox Hollow Loop                4.6  Forest trail with cemetery, self-guided hike booklet available, no pets allowed                   easy, Track Trail for Kids    1.2   North\n",
       "1              Snead Farm Loop                5.1                                                Trail to old barn and a viewpoint                                     moderate    3.0   North\n",
       "2                    Lands Run                9.2                                                 Fire road which crosses a stream                                     moderate    1.2   North\n",
       "3  Compton Peak, West and East               10.4                                         Viewpoint and geology, columnar jointing  moderate, steep section to geologic feature    2.4   North\n",
       "4           Fort Windham Rocks               10.4                                            Appalachian Trail to geologic feature                                         easy    0.8   North"
      ]
     },
     "execution_count": 50,
     "metadata": {},
     "output_type": "execute_result"
    }
   ],
   "source": [
    "df_nps.head()"
   ]
  },
  {
   "cell_type": "code",
   "execution_count": 52,
   "metadata": {},
   "outputs": [],
   "source": [
    "df_final.reset_index(drop=True, inplace=True)\n",
    "\n",
    "df_final.loc[df_final[col_map_name].isna(),[col_name, col_map_name]]"
   ]
  },
  {
   "cell_type": "code",
   "execution_count": 54,
   "metadata": {},
   "outputs": [
    {
     "data": {
      "text/html": [
       "<div>\n",
       "<style scoped>\n",
       "    .dataframe tbody tr th:only-of-type {\n",
       "        vertical-align: middle;\n",
       "    }\n",
       "\n",
       "    .dataframe tbody tr th {\n",
       "        vertical-align: top;\n",
       "    }\n",
       "\n",
       "    .dataframe thead th {\n",
       "        text-align: right;\n",
       "    }\n",
       "</style>\n",
       "<table border=\"1\" class=\"dataframe\">\n",
       "  <thead>\n",
       "    <tr style=\"text-align: right;\">\n",
       "      <th></th>\n",
       "      <th>nps_name</th>\n",
       "      <th>skyline_drive_mile</th>\n",
       "      <th>nps_features</th>\n",
       "      <th>nps_difficulty</th>\n",
       "      <th>length</th>\n",
       "      <th>ditrict</th>\n",
       "    </tr>\n",
       "  </thead>\n",
       "  <tbody>\n",
       "    <tr>\n",
       "      <th>0</th>\n",
       "      <td>Fox Hollow Loop</td>\n",
       "      <td>4.6</td>\n",
       "      <td>Forest trail with cemetery, self-guided hike booklet available, no pets allowed</td>\n",
       "      <td>easy, Track Trail for Kids</td>\n",
       "      <td>1.2</td>\n",
       "      <td>North</td>\n",
       "    </tr>\n",
       "    <tr>\n",
       "      <th>1</th>\n",
       "      <td>Snead Farm Loop</td>\n",
       "      <td>5.1</td>\n",
       "      <td>Trail to old barn and a viewpoint</td>\n",
       "      <td>moderate</td>\n",
       "      <td>3.0</td>\n",
       "      <td>North</td>\n",
       "    </tr>\n",
       "    <tr>\n",
       "      <th>2</th>\n",
       "      <td>Lands Run</td>\n",
       "      <td>9.2</td>\n",
       "      <td>Fire road which crosses a stream</td>\n",
       "      <td>moderate</td>\n",
       "      <td>1.2</td>\n",
       "      <td>North</td>\n",
       "    </tr>\n",
       "    <tr>\n",
       "      <th>3</th>\n",
       "      <td>Compton Peak, West and East</td>\n",
       "      <td>10.4</td>\n",
       "      <td>Viewpoint and geology, columnar jointing</td>\n",
       "      <td>moderate, steep section to geologic feature</td>\n",
       "      <td>2.4</td>\n",
       "      <td>North</td>\n",
       "    </tr>\n",
       "    <tr>\n",
       "      <th>4</th>\n",
       "      <td>Fort Windham Rocks</td>\n",
       "      <td>10.4</td>\n",
       "      <td>Appalachian Trail to geologic feature</td>\n",
       "      <td>easy</td>\n",
       "      <td>0.8</td>\n",
       "      <td>North</td>\n",
       "    </tr>\n",
       "  </tbody>\n",
       "</table>\n",
       "</div>"
      ],
      "text/plain": [
       "                      nps_name skyline_drive_mile                                                                     nps_features                               nps_difficulty length ditrict\n",
       "0              Fox Hollow Loop                4.6  Forest trail with cemetery, self-guided hike booklet available, no pets allowed                   easy, Track Trail for Kids    1.2   North\n",
       "1              Snead Farm Loop                5.1                                                Trail to old barn and a viewpoint                                     moderate    3.0   North\n",
       "2                    Lands Run                9.2                                                 Fire road which crosses a stream                                     moderate    1.2   North\n",
       "3  Compton Peak, West and East               10.4                                         Viewpoint and geology, columnar jointing  moderate, steep section to geologic feature    2.4   North\n",
       "4           Fort Windham Rocks               10.4                                            Appalachian Trail to geologic feature                                         easy    0.8   North"
      ]
     },
     "execution_count": 54,
     "metadata": {},
     "output_type": "execute_result"
    }
   ],
   "source": [
    "df_nps.head()"
   ]
  },
  {
   "cell_type": "code",
   "execution_count": 61,
   "metadata": {},
   "outputs": [],
   "source": [
    "df_final_merge = df_final.merge(df_nps[[col_map_name, col_skyline_drive_mile, col_nps_features, col_nps_difficulty, col_district]],how='left', on=col_map_name)\n",
    "\n",
    "df_final_merge.drop(col_map_name, axis=1, inplace=True)\n",
    "\n",
    "df_final_merge.to_excel('C:/Users/huang/Dropbox/Travel/Shenandoah/shenandoah_trail.xlsx',index=False)"
   ]
  }
 ],
 "metadata": {
  "kernelspec": {
   "display_name": "Python 3",
   "language": "python",
   "name": "python3"
  },
  "language_info": {
   "codemirror_mode": {
    "name": "ipython",
    "version": 3
   },
   "file_extension": ".py",
   "mimetype": "text/x-python",
   "name": "python",
   "nbconvert_exporter": "python",
   "pygments_lexer": "ipython3",
   "version": "3.8.3"
  }
 },
 "nbformat": 4,
 "nbformat_minor": 4
}
